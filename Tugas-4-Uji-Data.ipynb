{
 "cells": [
  {
   "cell_type": "markdown",
   "metadata": {},
   "source": [
    "# MENGUJI DATA SURVEY\n",
    "Membuat uji data dengan test Alpha cronbach, T-test, dan Principal Component Analysis (PCA) menggunakan bahasa R"
   ]
  },
  {
   "cell_type": "markdown",
   "metadata": {},
   "source": [
    "## 1. Uji data menggunakan test Alpha Cronbach"
   ]
  },
  {
   "cell_type": "code",
   "execution_count": 3,
   "metadata": {},
   "outputs": [],
   "source": [
    "mydata<-read.csv('data2.csv')"
   ]
  },
  {
   "cell_type": "code",
   "execution_count": 4,
   "metadata": {},
   "outputs": [
    {
     "data": {
      "text/html": [
       "<table>\n",
       "<thead><tr><th scope=col>Q1</th><th scope=col>q2</th><th scope=col>q3</th><th scope=col>q4</th><th scope=col>q5</th><th scope=col>Q6</th><th scope=col>Q7</th><th scope=col>Q8</th><th scope=col>Q9</th><th scope=col>Q10</th></tr></thead>\n",
       "<tbody>\n",
       "\t<tr><td>3</td><td>0</td><td>2</td><td>2</td><td>1</td><td>3</td><td>3</td><td>4</td><td>0</td><td>4</td></tr>\n",
       "\t<tr><td>3</td><td>1</td><td>3</td><td>3</td><td>1</td><td>4</td><td>3</td><td>4</td><td>0</td><td>3</td></tr>\n",
       "\t<tr><td>3</td><td>2</td><td>2</td><td>2</td><td>1</td><td>4</td><td>3</td><td>3</td><td>1</td><td>3</td></tr>\n",
       "\t<tr><td>4</td><td>0</td><td>2</td><td>2</td><td>0</td><td>4</td><td>3</td><td>3</td><td>0</td><td>3</td></tr>\n",
       "\t<tr><td>0</td><td>4</td><td>3</td><td>2</td><td>0</td><td>1</td><td>4</td><td>0</td><td>1</td><td>2</td></tr>\n",
       "\t<tr><td>0</td><td>1</td><td>0</td><td>0</td><td>4</td><td>0</td><td>4</td><td>4</td><td>0</td><td>0</td></tr>\n",
       "</tbody>\n",
       "</table>\n"
      ],
      "text/latex": [
       "\\begin{tabular}{r|llllllllll}\n",
       " Q1 & q2 & q3 & q4 & q5 & Q6 & Q7 & Q8 & Q9 & Q10\\\\\n",
       "\\hline\n",
       "\t 3 & 0 & 2 & 2 & 1 & 3 & 3 & 4 & 0 & 4\\\\\n",
       "\t 3 & 1 & 3 & 3 & 1 & 4 & 3 & 4 & 0 & 3\\\\\n",
       "\t 3 & 2 & 2 & 2 & 1 & 4 & 3 & 3 & 1 & 3\\\\\n",
       "\t 4 & 0 & 2 & 2 & 0 & 4 & 3 & 3 & 0 & 3\\\\\n",
       "\t 0 & 4 & 3 & 2 & 0 & 1 & 4 & 0 & 1 & 2\\\\\n",
       "\t 0 & 1 & 0 & 0 & 4 & 0 & 4 & 4 & 0 & 0\\\\\n",
       "\\end{tabular}\n"
      ],
      "text/markdown": [
       "\n",
       "| Q1 | q2 | q3 | q4 | q5 | Q6 | Q7 | Q8 | Q9 | Q10 |\n",
       "|---|---|---|---|---|---|---|---|---|---|\n",
       "| 3 | 0 | 2 | 2 | 1 | 3 | 3 | 4 | 0 | 4 |\n",
       "| 3 | 1 | 3 | 3 | 1 | 4 | 3 | 4 | 0 | 3 |\n",
       "| 3 | 2 | 2 | 2 | 1 | 4 | 3 | 3 | 1 | 3 |\n",
       "| 4 | 0 | 2 | 2 | 0 | 4 | 3 | 3 | 0 | 3 |\n",
       "| 0 | 4 | 3 | 2 | 0 | 1 | 4 | 0 | 1 | 2 |\n",
       "| 0 | 1 | 0 | 0 | 4 | 0 | 4 | 4 | 0 | 0 |\n",
       "\n"
      ],
      "text/plain": [
       "  Q1 q2 q3 q4 q5 Q6 Q7 Q8 Q9 Q10\n",
       "1 3  0  2  2  1  3  3  4  0  4  \n",
       "2 3  1  3  3  1  4  3  4  0  3  \n",
       "3 3  2  2  2  1  4  3  3  1  3  \n",
       "4 4  0  2  2  0  4  3  3  0  3  \n",
       "5 0  4  3  2  0  1  4  0  1  2  \n",
       "6 0  1  0  0  4  0  4  4  0  0  "
      ]
     },
     "metadata": {},
     "output_type": "display_data"
    }
   ],
   "source": [
    "head(mydata)"
   ]
  },
  {
   "cell_type": "code",
   "execution_count": 5,
   "metadata": {},
   "outputs": [
    {
     "name": "stderr",
     "output_type": "stream",
     "text": [
      "Warning message:\n",
      "\"package 'psych' was built under R version 3.6.3\""
     ]
    }
   ],
   "source": [
    "library('psych')"
   ]
  },
  {
   "cell_type": "code",
   "execution_count": 6,
   "metadata": {},
   "outputs": [
    {
     "name": "stderr",
     "output_type": "stream",
     "text": [
      "Warning message in alpha(mydata):\n",
      "\"Some items were negatively correlated with the total scale and probably \n",
      "should be reversed.  \n",
      "To do this, run the function again with the 'check.keys=TRUE' option\""
     ]
    },
    {
     "name": "stdout",
     "output_type": "stream",
     "text": [
      "Some items ( q2 q5 Q9 ) were negatively correlated with the total scale and \n",
      "probably should be reversed.  \n",
      "To do this, run the function again with the 'check.keys=TRUE' option"
     ]
    },
    {
     "data": {
      "text/plain": [
       "\n",
       "Reliability analysis   \n",
       "Call: alpha(x = mydata)\n",
       "\n",
       "  raw_alpha std.alpha G6(smc) average_r  S/N   ase mean  sd median_r\n",
       "      0.32      0.33    0.46     0.046 0.48 0.045  2.1 0.4    0.036\n",
       "\n",
       " lower alpha upper     95% confidence boundaries\n",
       "0.23 0.32 0.4 \n",
       "\n",
       " Reliability if an item is dropped:\n",
       "    raw_alpha std.alpha G6(smc) average_r  S/N alpha se var.r med.r\n",
       "Q1       0.24      0.25    0.41     0.036 0.34    0.051 0.040 0.018\n",
       "q2       0.32      0.32    0.44     0.049 0.46    0.045 0.038 0.039\n",
       "q3       0.21      0.20    0.35     0.028 0.26    0.053 0.035 0.018\n",
       "q4       0.23      0.23    0.37     0.032 0.30    0.051 0.037 0.025\n",
       "q5       0.42      0.43    0.52     0.076 0.74    0.039 0.038 0.047\n",
       "Q6       0.24      0.25    0.40     0.035 0.33    0.051 0.041 0.018\n",
       "Q7       0.29      0.31    0.43     0.048 0.45    0.047 0.036 0.018\n",
       "Q8       0.32      0.34    0.44     0.054 0.51    0.045 0.033 0.039\n",
       "Q9       0.39      0.40    0.49     0.070 0.68    0.040 0.031 0.069\n",
       "Q10      0.22      0.22    0.38     0.031 0.29    0.052 0.040 0.031\n",
       "\n",
       " Item statistics \n",
       "      n raw.r std.r  r.cor r.drop mean   sd\n",
       "Q1  502  0.48 0.469  0.361  0.218 2.57 1.14\n",
       "q2  502  0.33 0.346  0.216  0.066 0.64 1.08\n",
       "q3  502  0.52 0.550  0.538  0.307 2.26 1.00\n",
       "q4  502  0.47 0.508  0.460  0.257 2.41 0.95\n",
       "q5  502  0.10 0.087 -0.204 -0.169 1.81 1.08\n",
       "Q6  502  0.48 0.477  0.373  0.236 2.77 1.06\n",
       "Q7  502  0.40 0.356  0.236  0.115 2.60 1.19\n",
       "Q8  502  0.34 0.300  0.173  0.058 2.51 1.14\n",
       "Q9  502  0.12 0.145 -0.055 -0.134 0.53 1.00\n",
       "Q10 502  0.50 0.522  0.453  0.275 2.73 1.02\n",
       "\n",
       "Non missing response frequency for each item\n",
       "       0    1    2    3    4 miss\n",
       "Q1  0.09 0.09 0.16 0.48 0.18    0\n",
       "q2  0.69 0.10 0.11 0.07 0.02    0\n",
       "q3  0.06 0.14 0.34 0.38 0.07    0\n",
       "q4  0.04 0.12 0.33 0.42 0.10    0\n",
       "q5  0.07 0.40 0.27 0.17 0.09    0\n",
       "Q6  0.04 0.09 0.16 0.46 0.25    0\n",
       "Q7  0.06 0.15 0.15 0.39 0.24    0\n",
       "Q8  0.07 0.14 0.20 0.41 0.19    0\n",
       "Q9  0.74 0.08 0.10 0.07 0.01    0\n",
       "Q10 0.04 0.09 0.20 0.45 0.22    0"
      ]
     },
     "metadata": {},
     "output_type": "display_data"
    },
    {
     "name": "stdout",
     "output_type": "stream",
     "text": [
      "[1] \"Q1  = Menurut anda seorang Programmer harus menguasai minimal 3 bahasa pemrograman\"\n",
      "[1] \"Q2  = Apakah anda pernah mengunakan bahasa python\"\n",
      "[1] \"Q3  = Bahasa pemrograman python lebih mudah untuk digunakan daripada bahasa pemrograman yang lain\"\n",
      "[1] \"Q4  = Menurut anda,apakah Bahasa pemrograman python memiliki readability yang user-friendly daripada bahasa pemrograman java?\"\n",
      "[1] \"Q5  = Seorang programmer boleh menggenalkan bug yang ada di dalam software yang nantinya programmer mendapat keuntungan dalam membetulkan bug\"\n",
      "[1] \"Q6  = Programmer tidak boleh mencuri Software khususnya development tools\"\n",
      "[1] \"Q7  = Software yang dibuat secara tim dapat diperjual belikan tanpa memberitahukan kepada tim sebelumnya\"\n",
      "[1] \"Q8  = Menurut anda apakah software bajakan baik untuk digunakan?\"\n",
      "[1] \"Q9  = Apakah anda pernah mengikuti program sertifikasi untuk software programmer\"\n",
      "[1] \"Q10 = Apakah anda setuju jika seorang Software programmer jika memiliki lebih dari satu sertifikasi maka mendapatkan gaji yang lebih besar\"\n"
     ]
    }
   ],
   "source": [
    "alpha(mydata)\n",
    "print('Q1  = Menurut anda seorang Programmer harus menguasai minimal 3 bahasa pemrograman')\n",
    "print('Q2  = Apakah anda pernah mengunakan bahasa python')\n",
    "print('Q3  = Bahasa pemrograman python lebih mudah untuk digunakan daripada bahasa pemrograman yang lain')\n",
    "print('Q4  = Menurut anda,apakah Bahasa pemrograman python memiliki readability yang user-friendly daripada bahasa pemrograman java?')\n",
    "print('Q5  = Seorang programmer boleh menggenalkan bug yang ada di dalam software yang nantinya programmer mendapat keuntungan dalam membetulkan bug')\n",
    "print('Q6  = Programmer tidak boleh mencuri Software khususnya development tools')\n",
    "print('Q7  = Software yang dibuat secara tim dapat diperjual belikan tanpa memberitahukan kepada tim sebelumnya')\n",
    "print('Q8  = Menurut anda apakah software bajakan baik untuk digunakan?')\n",
    "print('Q9  = Apakah anda pernah mengikuti program sertifikasi untuk software programmer')\n",
    "print('Q10 = Apakah anda setuju jika seorang Software programmer jika memiliki lebih dari satu sertifikasi maka mendapatkan gaji yang lebih besar')"
   ]
  },
  {
   "cell_type": "markdown",
   "metadata": {},
   "source": [
    "## 2. Uji data menggunakan T-test"
   ]
  },
  {
   "cell_type": "code",
   "execution_count": 3,
   "metadata": {},
   "outputs": [],
   "source": [
    "Q1=read.delim(\"clipboard\")"
   ]
  },
  {
   "cell_type": "code",
   "execution_count": 4,
   "metadata": {},
   "outputs": [
    {
     "data": {
      "text/plain": [
       "\n",
       "\tOne Sample t-test\n",
       "\n",
       "data:  Q1\n",
       "t = -106.35, df = 501, p-value < 2.2e-16\n",
       "alternative hypothesis: true mean is less than 8\n",
       "95 percent confidence interval:\n",
       "     -Inf 2.657788\n",
       "sample estimates:\n",
       "mean of x \n",
       " 2.573705 \n"
      ]
     },
     "metadata": {},
     "output_type": "display_data"
    },
    {
     "name": "stdout",
     "output_type": "stream",
     "text": [
      "[1] \"Q1 = Menurut anda seorang Programmer harus menguasai minimal 3 bahasa pemrograman\"\n"
     ]
    }
   ],
   "source": [
    "t.test(Q1, mu=8, alternative='less', conf.level=0.95)\n",
    "print('Q1 = Menurut anda seorang Programmer harus menguasai minimal 3 bahasa pemrograman')"
   ]
  },
  {
   "cell_type": "code",
   "execution_count": 5,
   "metadata": {},
   "outputs": [],
   "source": [
    "Q2=read.delim(\"clipboard\")"
   ]
  },
  {
   "cell_type": "code",
   "execution_count": 6,
   "metadata": {},
   "outputs": [
    {
     "data": {
      "text/plain": [
       "\n",
       "\tOne Sample t-test\n",
       "\n",
       "data:  Q2\n",
       "t = -152.79, df = 501, p-value < 2.2e-16\n",
       "alternative hypothesis: true mean is less than 8\n",
       "95 percent confidence interval:\n",
       "      -Inf 0.7148863\n",
       "sample estimates:\n",
       "mean of x \n",
       "0.6354582 \n"
      ]
     },
     "metadata": {},
     "output_type": "display_data"
    },
    {
     "name": "stdout",
     "output_type": "stream",
     "text": [
      "[1] \"Q2 = Apakah anda pernah mengunakan bahasa python\"\n"
     ]
    }
   ],
   "source": [
    "t.test(Q2, mu=8, alternative='less', conf.level=0.95)\n",
    "print('Q2 = Apakah anda pernah mengunakan bahasa python')"
   ]
  },
  {
   "cell_type": "code",
   "execution_count": 8,
   "metadata": {},
   "outputs": [],
   "source": [
    "Q3=read.delim(\"clipboard\")"
   ]
  },
  {
   "cell_type": "code",
   "execution_count": 9,
   "metadata": {},
   "outputs": [
    {
     "data": {
      "text/plain": [
       "\n",
       "\tOne Sample t-test\n",
       "\n",
       "data:  Q3\n",
       "t = -128.91, df = 501, p-value < 2.2e-16\n",
       "alternative hypothesis: true mean is less than 8\n",
       "95 percent confidence interval:\n",
       "     -Inf 2.338252\n",
       "sample estimates:\n",
       "mean of x \n",
       "  2.26494 \n"
      ]
     },
     "metadata": {},
     "output_type": "display_data"
    },
    {
     "name": "stdout",
     "output_type": "stream",
     "text": [
      "[1] \"Q3 = Bahasa pemrograman python lebih mudah untuk digunakan daripada bahasa pemrograman yang lain\"\n"
     ]
    }
   ],
   "source": [
    "t.test(Q3, mu=8, alternative='less', conf.level=0.95)\n",
    "print('Q3 = Bahasa pemrograman python lebih mudah untuk digunakan daripada bahasa pemrograman yang lain')"
   ]
  },
  {
   "cell_type": "code",
   "execution_count": 10,
   "metadata": {},
   "outputs": [],
   "source": [
    "Q4=read.delim(\"clipboard\")"
   ]
  },
  {
   "cell_type": "code",
   "execution_count": 11,
   "metadata": {},
   "outputs": [
    {
     "data": {
      "text/plain": [
       "\n",
       "\tOne Sample t-test\n",
       "\n",
       "data:  Q4\n",
       "t = -131.49, df = 501, p-value < 2.2e-16\n",
       "alternative hypothesis: true mean is less than 8\n",
       "95 percent confidence interval:\n",
       "     -Inf 2.484343\n",
       "sample estimates:\n",
       "mean of x \n",
       " 2.414343 \n"
      ]
     },
     "metadata": {},
     "output_type": "display_data"
    },
    {
     "name": "stdout",
     "output_type": "stream",
     "text": [
      "[1] \"Q4 = Menurut anda,apakah Bahasa pemrograman python memiliki readability yang user-friendly daripada bahasa pemrograman java?\"\n"
     ]
    }
   ],
   "source": [
    "t.test(Q4, mu=8, alternative='less', conf.level=0.95)\n",
    "\n",
    "print('Q4 = Menurut anda,apakah Bahasa pemrograman python memiliki readability yang user-friendly daripada bahasa pemrograman java?')"
   ]
  },
  {
   "cell_type": "code",
   "execution_count": 12,
   "metadata": {},
   "outputs": [],
   "source": [
    "Q5=read.delim(\"clipboard\")"
   ]
  },
  {
   "cell_type": "code",
   "execution_count": 13,
   "metadata": {},
   "outputs": [
    {
     "data": {
      "text/plain": [
       "\n",
       "\tOne Sample t-test\n",
       "\n",
       "data:  Q5\n",
       "t = -128.3, df = 501, p-value < 2.2e-16\n",
       "alternative hypothesis: true mean is less than 8\n",
       "95 percent confidence interval:\n",
       "     -Inf 1.888285\n",
       "sample estimates:\n",
       "mean of x \n",
       " 1.808765 \n"
      ]
     },
     "metadata": {},
     "output_type": "display_data"
    },
    {
     "name": "stdout",
     "output_type": "stream",
     "text": [
      "[1] \"Q5 = Seorang programmer boleh menggenalkan bug yang ada di dalam software yang nantinya programmer mendapat keuntungan dalam membetulkan bug\"\n"
     ]
    }
   ],
   "source": [
    "t.test(Q5, mu=8, alternative='less', conf.level=0.95)\n",
    "\n",
    "print('Q5 = Seorang programmer boleh menggenalkan bug yang ada di dalam software yang nantinya programmer mendapat keuntungan dalam membetulkan bug')"
   ]
  },
  {
   "cell_type": "code",
   "execution_count": 14,
   "metadata": {},
   "outputs": [],
   "source": [
    "Q6=read.delim(\"clipboard\")"
   ]
  },
  {
   "cell_type": "code",
   "execution_count": 15,
   "metadata": {},
   "outputs": [
    {
     "data": {
      "text/plain": [
       "\n",
       "\tOne Sample t-test\n",
       "\n",
       "data:  Q6\n",
       "t = -110.94, df = 501, p-value < 2.2e-16\n",
       "alternative hypothesis: true mean is less than 8\n",
       "95 percent confidence interval:\n",
       "     -Inf 2.846628\n",
       "sample estimates:\n",
       "mean of x \n",
       " 2.768924 \n"
      ]
     },
     "metadata": {},
     "output_type": "display_data"
    },
    {
     "name": "stdout",
     "output_type": "stream",
     "text": [
      "[1] \"Q6 = Programmer tidak boleh mencuri Software khususnya development tools\"\n"
     ]
    }
   ],
   "source": [
    "t.test(Q6, mu=8, alternative='less', conf.level=0.95)\n",
    "\n",
    "print('Q6 = Programmer tidak boleh mencuri Software khususnya development tools')"
   ]
  },
  {
   "cell_type": "code",
   "execution_count": 16,
   "metadata": {},
   "outputs": [],
   "source": [
    "Q7=read.delim(\"clipboard\")"
   ]
  },
  {
   "cell_type": "code",
   "execution_count": 17,
   "metadata": {},
   "outputs": [
    {
     "data": {
      "text/plain": [
       "\n",
       "\tOne Sample t-test\n",
       "\n",
       "data:  Q7\n",
       "t = -102.06, df = 501, p-value < 2.2e-16\n",
       "alternative hypothesis: true mean is less than 8\n",
       "95 percent confidence interval:\n",
       "    -Inf 2.68484\n",
       "sample estimates:\n",
       "mean of x \n",
       "  2.59761 \n"
      ]
     },
     "metadata": {},
     "output_type": "display_data"
    },
    {
     "name": "stdout",
     "output_type": "stream",
     "text": [
      "[1] \"Q7 = Software yang dibuat secara tim dapat diperjual belikan tanpa memberitahukan kepada tim sebelumnya\"\n"
     ]
    }
   ],
   "source": [
    "t.test(Q7, mu=8, alternative='less', conf.level=0.95)\n",
    "\n",
    "print('Q7 = Software yang dibuat secara tim dapat diperjual belikan tanpa memberitahukan kepada tim sebelumnya')"
   ]
  },
  {
   "cell_type": "code",
   "execution_count": 18,
   "metadata": {},
   "outputs": [],
   "source": [
    "Q8=read.delim(\"clipboard\")"
   ]
  },
  {
   "cell_type": "code",
   "execution_count": 19,
   "metadata": {},
   "outputs": [
    {
     "data": {
      "text/plain": [
       "\n",
       "\tOne Sample t-test\n",
       "\n",
       "data:  Q8\n",
       "t = -108.17, df = 501, p-value < 2.2e-16\n",
       "alternative hypothesis: true mean is less than 8\n",
       "95 percent confidence interval:\n",
       "     -Inf 2.595562\n",
       "sample estimates:\n",
       "mean of x \n",
       " 2.511952 \n"
      ]
     },
     "metadata": {},
     "output_type": "display_data"
    },
    {
     "name": "stdout",
     "output_type": "stream",
     "text": [
      "[1] \"Q8 = Menurut anda apakah software bajakan baik untuk digunakan?\"\n"
     ]
    }
   ],
   "source": [
    "t.test(Q8, mu=8, alternative='less', conf.level=0.95)\n",
    "\n",
    "print('Q8 = Menurut anda apakah software bajakan baik untuk digunakan?')"
   ]
  },
  {
   "cell_type": "code",
   "execution_count": 20,
   "metadata": {},
   "outputs": [],
   "source": [
    "Q9=read.delim(\"clipboard\")"
   ]
  },
  {
   "cell_type": "code",
   "execution_count": 21,
   "metadata": {},
   "outputs": [
    {
     "data": {
      "text/plain": [
       "\n",
       "\tOne Sample t-test\n",
       "\n",
       "data:  Q9\n",
       "t = -167.1, df = 501, p-value < 2.2e-16\n",
       "alternative hypothesis: true mean is less than 8\n",
       "95 percent confidence interval:\n",
       "      -Inf 0.5996044\n",
       "sample estimates:\n",
       "mean of x \n",
       "0.5258964 \n"
      ]
     },
     "metadata": {},
     "output_type": "display_data"
    },
    {
     "name": "stdout",
     "output_type": "stream",
     "text": [
      "[1] \"Q9 = Apakah anda pernah mengikuti program sertifikasi untuk software programmer\"\n"
     ]
    }
   ],
   "source": [
    "t.test(Q9, mu=8, alternative='less', conf.level=0.95)\n",
    "\n",
    "print('Q9 = Apakah anda pernah mengikuti program sertifikasi untuk software programmer')"
   ]
  },
  {
   "cell_type": "code",
   "execution_count": 22,
   "metadata": {},
   "outputs": [],
   "source": [
    "Q10=read.delim(\"clipboard\")"
   ]
  },
  {
   "cell_type": "code",
   "execution_count": 23,
   "metadata": {},
   "outputs": [
    {
     "data": {
      "text/plain": [
       "\n",
       "\tOne Sample t-test\n",
       "\n",
       "data:  Q10\n",
       "t = -115.56, df = 501, p-value < 2.2e-16\n",
       "alternative hypothesis: true mean is less than 8\n",
       "95 percent confidence interval:\n",
       "     -Inf 2.802282\n",
       "sample estimates:\n",
       "mean of x \n",
       " 2.727092 \n"
      ]
     },
     "metadata": {},
     "output_type": "display_data"
    },
    {
     "name": "stdout",
     "output_type": "stream",
     "text": [
      "[1] \"Q10 = Apakah anda setuju jika seorang Software programmer jika memiliki lebih dari satu sertifikasi maka mendapatkan gaji yang lebih besar\"\n"
     ]
    }
   ],
   "source": [
    "t.test(Q10, mu=8, alternative='less', conf.level=0.95)\n",
    "\n",
    "print('Q10 = Apakah anda setuju jika seorang Software programmer jika memiliki lebih dari satu sertifikasi maka mendapatkan gaji yang lebih besar')"
   ]
  },
  {
   "cell_type": "markdown",
   "metadata": {},
   "source": [
    "## 3. Uji data menggunakan Principal Component Analysis"
   ]
  },
  {
   "cell_type": "code",
   "execution_count": 25,
   "metadata": {},
   "outputs": [],
   "source": [
    "mydata<-read.csv('data2.csv')"
   ]
  },
  {
   "cell_type": "code",
   "execution_count": 26,
   "metadata": {},
   "outputs": [
    {
     "data": {
      "text/html": [
       "<table>\n",
       "<thead><tr><th scope=col>Q1</th><th scope=col>q2</th><th scope=col>q3</th><th scope=col>q4</th><th scope=col>q5</th><th scope=col>Q6</th><th scope=col>Q7</th><th scope=col>Q8</th><th scope=col>Q9</th><th scope=col>Q10</th></tr></thead>\n",
       "<tbody>\n",
       "\t<tr><td>3</td><td>0</td><td>2</td><td>2</td><td>1</td><td>3</td><td>3</td><td>4</td><td>0</td><td>4</td></tr>\n",
       "\t<tr><td>3</td><td>1</td><td>3</td><td>3</td><td>1</td><td>4</td><td>3</td><td>4</td><td>0</td><td>3</td></tr>\n",
       "\t<tr><td>3</td><td>2</td><td>2</td><td>2</td><td>1</td><td>4</td><td>3</td><td>3</td><td>1</td><td>3</td></tr>\n",
       "\t<tr><td>4</td><td>0</td><td>2</td><td>2</td><td>0</td><td>4</td><td>3</td><td>3</td><td>0</td><td>3</td></tr>\n",
       "\t<tr><td>0</td><td>4</td><td>3</td><td>2</td><td>0</td><td>1</td><td>4</td><td>0</td><td>1</td><td>2</td></tr>\n",
       "\t<tr><td>0</td><td>1</td><td>0</td><td>0</td><td>4</td><td>0</td><td>4</td><td>4</td><td>0</td><td>0</td></tr>\n",
       "\t<tr><td>0</td><td>0</td><td>1</td><td>0</td><td>2</td><td>4</td><td>4</td><td>4</td><td>0</td><td>0</td></tr>\n",
       "\t<tr><td>3</td><td>0</td><td>2</td><td>2</td><td>2</td><td>3</td><td>4</td><td>2</td><td>0</td><td>2</td></tr>\n",
       "\t<tr><td>1</td><td>2</td><td>0</td><td>3</td><td>1</td><td>3</td><td>0</td><td>4</td><td>2</td><td>0</td></tr>\n",
       "\t<tr><td>3</td><td>0</td><td>2</td><td>2</td><td>1</td><td>4</td><td>4</td><td>2</td><td>1</td><td>3</td></tr>\n",
       "\t<tr><td>2</td><td>0</td><td>2</td><td>2</td><td>2</td><td>3</td><td>3</td><td>2</td><td>0</td><td>3</td></tr>\n",
       "\t<tr><td>4</td><td>0</td><td>3</td><td>3</td><td>0</td><td>4</td><td>0</td><td>0</td><td>0</td><td>3</td></tr>\n",
       "\t<tr><td>3</td><td>1</td><td>3</td><td>3</td><td>1</td><td>3</td><td>4</td><td>1</td><td>1</td><td>4</td></tr>\n",
       "\t<tr><td>4</td><td>3</td><td>3</td><td>3</td><td>2</td><td>3</td><td>3</td><td>2</td><td>0</td><td>4</td></tr>\n",
       "\t<tr><td>3</td><td>0</td><td>1</td><td>1</td><td>4</td><td>4</td><td>4</td><td>4</td><td>0</td><td>0</td></tr>\n",
       "\t<tr><td>0</td><td>0</td><td>3</td><td>3</td><td>3</td><td>1</td><td>3</td><td>1</td><td>0</td><td>3</td></tr>\n",
       "\t<tr><td>3</td><td>0</td><td>1</td><td>1</td><td>2</td><td>3</td><td>4</td><td>3</td><td>0</td><td>2</td></tr>\n",
       "\t<tr><td>4</td><td>0</td><td>3</td><td>1</td><td>3</td><td>1</td><td>2</td><td>0</td><td>0</td><td>4</td></tr>\n",
       "\t<tr><td>2</td><td>1</td><td>2</td><td>2</td><td>2</td><td>2</td><td>3</td><td>2</td><td>0</td><td>2</td></tr>\n",
       "\t<tr><td>3</td><td>1</td><td>2</td><td>2</td><td>1</td><td>3</td><td>4</td><td>2</td><td>0</td><td>3</td></tr>\n",
       "\t<tr><td>3</td><td>1</td><td>2</td><td>2</td><td>2</td><td>3</td><td>3</td><td>2</td><td>0</td><td>3</td></tr>\n",
       "\t<tr><td>3</td><td>3</td><td>3</td><td>3</td><td>1</td><td>4</td><td>4</td><td>4</td><td>0</td><td>4</td></tr>\n",
       "\t<tr><td>3</td><td>0</td><td>1</td><td>2</td><td>1</td><td>4</td><td>4</td><td>4</td><td>0</td><td>3</td></tr>\n",
       "\t<tr><td>3</td><td>1</td><td>3</td><td>2</td><td>2</td><td>2</td><td>3</td><td>0</td><td>0</td><td>4</td></tr>\n",
       "\t<tr><td>3</td><td>0</td><td>3</td><td>3</td><td>0</td><td>3</td><td>4</td><td>2</td><td>0</td><td>3</td></tr>\n",
       "\t<tr><td>4</td><td>0</td><td>3</td><td>3</td><td>1</td><td>3</td><td>4</td><td>4</td><td>0</td><td>3</td></tr>\n",
       "\t<tr><td>3</td><td>0</td><td>2</td><td>2</td><td>0</td><td>4</td><td>4</td><td>4</td><td>0</td><td>3</td></tr>\n",
       "\t<tr><td>4</td><td>2</td><td>3</td><td>3</td><td>2</td><td>4</td><td>4</td><td>3</td><td>0</td><td>3</td></tr>\n",
       "\t<tr><td>3</td><td>0</td><td>3</td><td>3</td><td>1</td><td>4</td><td>0</td><td>2</td><td>0</td><td>3</td></tr>\n",
       "\t<tr><td>3</td><td>2</td><td>2</td><td>2</td><td>1</td><td>3</td><td>3</td><td>3</td><td>0</td><td>2</td></tr>\n",
       "\t<tr><td>...</td><td>...</td><td>...</td><td>...</td><td>...</td><td>...</td><td>...</td><td>...</td><td>...</td><td>...</td></tr>\n",
       "\t<tr><td>3</td><td>0</td><td>3</td><td>3</td><td>1</td><td>3</td><td>1</td><td>3</td><td>0</td><td>3</td></tr>\n",
       "\t<tr><td>3</td><td>0</td><td>3</td><td>3</td><td>1</td><td>3</td><td>1</td><td>3</td><td>0</td><td>3</td></tr>\n",
       "\t<tr><td>3</td><td>0</td><td>3</td><td>3</td><td>1</td><td>3</td><td>3</td><td>3</td><td>0</td><td>3</td></tr>\n",
       "\t<tr><td>3</td><td>0</td><td>3</td><td>3</td><td>1</td><td>3</td><td>3</td><td>3</td><td>0</td><td>3</td></tr>\n",
       "\t<tr><td>3</td><td>0</td><td>3</td><td>3</td><td>1</td><td>3</td><td>3</td><td>3</td><td>0</td><td>3</td></tr>\n",
       "\t<tr><td>3</td><td>0</td><td>3</td><td>3</td><td>1</td><td>3</td><td>3</td><td>3</td><td>0</td><td>3</td></tr>\n",
       "\t<tr><td>3</td><td>0</td><td>3</td><td>3</td><td>1</td><td>3</td><td>1</td><td>3</td><td>0</td><td>3</td></tr>\n",
       "\t<tr><td>3</td><td>0</td><td>3</td><td>3</td><td>1</td><td>3</td><td>3</td><td>3</td><td>0</td><td>3</td></tr>\n",
       "\t<tr><td>3</td><td>0</td><td>3</td><td>3</td><td>1</td><td>3</td><td>3</td><td>3</td><td>0</td><td>3</td></tr>\n",
       "\t<tr><td>3</td><td>0</td><td>2</td><td>2</td><td>2</td><td>2</td><td>2</td><td>2</td><td>0</td><td>1</td></tr>\n",
       "\t<tr><td>1</td><td>1</td><td>1</td><td>2</td><td>2</td><td>2</td><td>2</td><td>2</td><td>2</td><td>1</td></tr>\n",
       "\t<tr><td>0</td><td>4</td><td>3</td><td>1</td><td>2</td><td>2</td><td>2</td><td>2</td><td>3</td><td>2</td></tr>\n",
       "\t<tr><td>1</td><td>1</td><td>0</td><td>2</td><td>2</td><td>2</td><td>1</td><td>1</td><td>2</td><td>3</td></tr>\n",
       "\t<tr><td>2</td><td>3</td><td>2</td><td>3</td><td>1</td><td>3</td><td>1</td><td>2</td><td>2</td><td>4</td></tr>\n",
       "\t<tr><td>4</td><td>3</td><td>3</td><td>2</td><td>2</td><td>4</td><td>2</td><td>1</td><td>3</td><td>2</td></tr>\n",
       "\t<tr><td>0</td><td>0</td><td>3</td><td>2</td><td>2</td><td>1</td><td>2</td><td>1</td><td>3</td><td>3</td></tr>\n",
       "\t<tr><td>3</td><td>2</td><td>2</td><td>3</td><td>1</td><td>1</td><td>4</td><td>0</td><td>3</td><td>2</td></tr>\n",
       "\t<tr><td>2</td><td>0</td><td>0</td><td>1</td><td>2</td><td>3</td><td>3</td><td>3</td><td>1</td><td>2</td></tr>\n",
       "\t<tr><td>2</td><td>2</td><td>1</td><td>2</td><td>2</td><td>3</td><td>2</td><td>4</td><td>0</td><td>2</td></tr>\n",
       "\t<tr><td>1</td><td>0</td><td>0</td><td>3</td><td>2</td><td>2</td><td>3</td><td>2</td><td>1</td><td>3</td></tr>\n",
       "\t<tr><td>4</td><td>1</td><td>0</td><td>1</td><td>3</td><td>3</td><td>0</td><td>0</td><td>3</td><td>2</td></tr>\n",
       "\t<tr><td>1</td><td>2</td><td>2</td><td>3</td><td>2</td><td>2</td><td>1</td><td>0</td><td>3</td><td>2</td></tr>\n",
       "\t<tr><td>1</td><td>3</td><td>2</td><td>4</td><td>2</td><td>2</td><td>1</td><td>0</td><td>2</td><td>3</td></tr>\n",
       "\t<tr><td>4</td><td>4</td><td>3</td><td>3</td><td>2</td><td>3</td><td>4</td><td>3</td><td>0</td><td>3</td></tr>\n",
       "\t<tr><td>4</td><td>2</td><td>2</td><td>4</td><td>3</td><td>2</td><td>2</td><td>2</td><td>3</td><td>1</td></tr>\n",
       "\t<tr><td>2</td><td>2</td><td>2</td><td>2</td><td>3</td><td>2</td><td>2</td><td>2</td><td>2</td><td>3</td></tr>\n",
       "\t<tr><td>2</td><td>2</td><td>3</td><td>1</td><td>4</td><td>3</td><td>2</td><td>1</td><td>4</td><td>1</td></tr>\n",
       "\t<tr><td>0</td><td>2</td><td>2</td><td>1</td><td>1</td><td>3</td><td>3</td><td>2</td><td>1</td><td>1</td></tr>\n",
       "\t<tr><td>3</td><td>1</td><td>2</td><td>2</td><td>1</td><td>3</td><td>4</td><td>3</td><td>0</td><td>1</td></tr>\n",
       "\t<tr><td>4</td><td>0</td><td>2</td><td>3</td><td>1</td><td>3</td><td>3</td><td>3</td><td>0</td><td>3</td></tr>\n",
       "</tbody>\n",
       "</table>\n"
      ],
      "text/latex": [
       "\\begin{tabular}{r|llllllllll}\n",
       " Q1 & q2 & q3 & q4 & q5 & Q6 & Q7 & Q8 & Q9 & Q10\\\\\n",
       "\\hline\n",
       "\t 3 & 0 & 2 & 2 & 1 & 3 & 3 & 4 & 0 & 4\\\\\n",
       "\t 3 & 1 & 3 & 3 & 1 & 4 & 3 & 4 & 0 & 3\\\\\n",
       "\t 3 & 2 & 2 & 2 & 1 & 4 & 3 & 3 & 1 & 3\\\\\n",
       "\t 4 & 0 & 2 & 2 & 0 & 4 & 3 & 3 & 0 & 3\\\\\n",
       "\t 0 & 4 & 3 & 2 & 0 & 1 & 4 & 0 & 1 & 2\\\\\n",
       "\t 0 & 1 & 0 & 0 & 4 & 0 & 4 & 4 & 0 & 0\\\\\n",
       "\t 0 & 0 & 1 & 0 & 2 & 4 & 4 & 4 & 0 & 0\\\\\n",
       "\t 3 & 0 & 2 & 2 & 2 & 3 & 4 & 2 & 0 & 2\\\\\n",
       "\t 1 & 2 & 0 & 3 & 1 & 3 & 0 & 4 & 2 & 0\\\\\n",
       "\t 3 & 0 & 2 & 2 & 1 & 4 & 4 & 2 & 1 & 3\\\\\n",
       "\t 2 & 0 & 2 & 2 & 2 & 3 & 3 & 2 & 0 & 3\\\\\n",
       "\t 4 & 0 & 3 & 3 & 0 & 4 & 0 & 0 & 0 & 3\\\\\n",
       "\t 3 & 1 & 3 & 3 & 1 & 3 & 4 & 1 & 1 & 4\\\\\n",
       "\t 4 & 3 & 3 & 3 & 2 & 3 & 3 & 2 & 0 & 4\\\\\n",
       "\t 3 & 0 & 1 & 1 & 4 & 4 & 4 & 4 & 0 & 0\\\\\n",
       "\t 0 & 0 & 3 & 3 & 3 & 1 & 3 & 1 & 0 & 3\\\\\n",
       "\t 3 & 0 & 1 & 1 & 2 & 3 & 4 & 3 & 0 & 2\\\\\n",
       "\t 4 & 0 & 3 & 1 & 3 & 1 & 2 & 0 & 0 & 4\\\\\n",
       "\t 2 & 1 & 2 & 2 & 2 & 2 & 3 & 2 & 0 & 2\\\\\n",
       "\t 3 & 1 & 2 & 2 & 1 & 3 & 4 & 2 & 0 & 3\\\\\n",
       "\t 3 & 1 & 2 & 2 & 2 & 3 & 3 & 2 & 0 & 3\\\\\n",
       "\t 3 & 3 & 3 & 3 & 1 & 4 & 4 & 4 & 0 & 4\\\\\n",
       "\t 3 & 0 & 1 & 2 & 1 & 4 & 4 & 4 & 0 & 3\\\\\n",
       "\t 3 & 1 & 3 & 2 & 2 & 2 & 3 & 0 & 0 & 4\\\\\n",
       "\t 3 & 0 & 3 & 3 & 0 & 3 & 4 & 2 & 0 & 3\\\\\n",
       "\t 4 & 0 & 3 & 3 & 1 & 3 & 4 & 4 & 0 & 3\\\\\n",
       "\t 3 & 0 & 2 & 2 & 0 & 4 & 4 & 4 & 0 & 3\\\\\n",
       "\t 4 & 2 & 3 & 3 & 2 & 4 & 4 & 3 & 0 & 3\\\\\n",
       "\t 3 & 0 & 3 & 3 & 1 & 4 & 0 & 2 & 0 & 3\\\\\n",
       "\t 3 & 2 & 2 & 2 & 1 & 3 & 3 & 3 & 0 & 2\\\\\n",
       "\t ... & ... & ... & ... & ... & ... & ... & ... & ... & ...\\\\\n",
       "\t 3 & 0 & 3 & 3 & 1 & 3 & 1 & 3 & 0 & 3\\\\\n",
       "\t 3 & 0 & 3 & 3 & 1 & 3 & 1 & 3 & 0 & 3\\\\\n",
       "\t 3 & 0 & 3 & 3 & 1 & 3 & 3 & 3 & 0 & 3\\\\\n",
       "\t 3 & 0 & 3 & 3 & 1 & 3 & 3 & 3 & 0 & 3\\\\\n",
       "\t 3 & 0 & 3 & 3 & 1 & 3 & 3 & 3 & 0 & 3\\\\\n",
       "\t 3 & 0 & 3 & 3 & 1 & 3 & 3 & 3 & 0 & 3\\\\\n",
       "\t 3 & 0 & 3 & 3 & 1 & 3 & 1 & 3 & 0 & 3\\\\\n",
       "\t 3 & 0 & 3 & 3 & 1 & 3 & 3 & 3 & 0 & 3\\\\\n",
       "\t 3 & 0 & 3 & 3 & 1 & 3 & 3 & 3 & 0 & 3\\\\\n",
       "\t 3 & 0 & 2 & 2 & 2 & 2 & 2 & 2 & 0 & 1\\\\\n",
       "\t 1 & 1 & 1 & 2 & 2 & 2 & 2 & 2 & 2 & 1\\\\\n",
       "\t 0 & 4 & 3 & 1 & 2 & 2 & 2 & 2 & 3 & 2\\\\\n",
       "\t 1 & 1 & 0 & 2 & 2 & 2 & 1 & 1 & 2 & 3\\\\\n",
       "\t 2 & 3 & 2 & 3 & 1 & 3 & 1 & 2 & 2 & 4\\\\\n",
       "\t 4 & 3 & 3 & 2 & 2 & 4 & 2 & 1 & 3 & 2\\\\\n",
       "\t 0 & 0 & 3 & 2 & 2 & 1 & 2 & 1 & 3 & 3\\\\\n",
       "\t 3 & 2 & 2 & 3 & 1 & 1 & 4 & 0 & 3 & 2\\\\\n",
       "\t 2 & 0 & 0 & 1 & 2 & 3 & 3 & 3 & 1 & 2\\\\\n",
       "\t 2 & 2 & 1 & 2 & 2 & 3 & 2 & 4 & 0 & 2\\\\\n",
       "\t 1 & 0 & 0 & 3 & 2 & 2 & 3 & 2 & 1 & 3\\\\\n",
       "\t 4 & 1 & 0 & 1 & 3 & 3 & 0 & 0 & 3 & 2\\\\\n",
       "\t 1 & 2 & 2 & 3 & 2 & 2 & 1 & 0 & 3 & 2\\\\\n",
       "\t 1 & 3 & 2 & 4 & 2 & 2 & 1 & 0 & 2 & 3\\\\\n",
       "\t 4 & 4 & 3 & 3 & 2 & 3 & 4 & 3 & 0 & 3\\\\\n",
       "\t 4 & 2 & 2 & 4 & 3 & 2 & 2 & 2 & 3 & 1\\\\\n",
       "\t 2 & 2 & 2 & 2 & 3 & 2 & 2 & 2 & 2 & 3\\\\\n",
       "\t 2 & 2 & 3 & 1 & 4 & 3 & 2 & 1 & 4 & 1\\\\\n",
       "\t 0 & 2 & 2 & 1 & 1 & 3 & 3 & 2 & 1 & 1\\\\\n",
       "\t 3 & 1 & 2 & 2 & 1 & 3 & 4 & 3 & 0 & 1\\\\\n",
       "\t 4 & 0 & 2 & 3 & 1 & 3 & 3 & 3 & 0 & 3\\\\\n",
       "\\end{tabular}\n"
      ],
      "text/markdown": [
       "\n",
       "| Q1 | q2 | q3 | q4 | q5 | Q6 | Q7 | Q8 | Q9 | Q10 |\n",
       "|---|---|---|---|---|---|---|---|---|---|\n",
       "| 3 | 0 | 2 | 2 | 1 | 3 | 3 | 4 | 0 | 4 |\n",
       "| 3 | 1 | 3 | 3 | 1 | 4 | 3 | 4 | 0 | 3 |\n",
       "| 3 | 2 | 2 | 2 | 1 | 4 | 3 | 3 | 1 | 3 |\n",
       "| 4 | 0 | 2 | 2 | 0 | 4 | 3 | 3 | 0 | 3 |\n",
       "| 0 | 4 | 3 | 2 | 0 | 1 | 4 | 0 | 1 | 2 |\n",
       "| 0 | 1 | 0 | 0 | 4 | 0 | 4 | 4 | 0 | 0 |\n",
       "| 0 | 0 | 1 | 0 | 2 | 4 | 4 | 4 | 0 | 0 |\n",
       "| 3 | 0 | 2 | 2 | 2 | 3 | 4 | 2 | 0 | 2 |\n",
       "| 1 | 2 | 0 | 3 | 1 | 3 | 0 | 4 | 2 | 0 |\n",
       "| 3 | 0 | 2 | 2 | 1 | 4 | 4 | 2 | 1 | 3 |\n",
       "| 2 | 0 | 2 | 2 | 2 | 3 | 3 | 2 | 0 | 3 |\n",
       "| 4 | 0 | 3 | 3 | 0 | 4 | 0 | 0 | 0 | 3 |\n",
       "| 3 | 1 | 3 | 3 | 1 | 3 | 4 | 1 | 1 | 4 |\n",
       "| 4 | 3 | 3 | 3 | 2 | 3 | 3 | 2 | 0 | 4 |\n",
       "| 3 | 0 | 1 | 1 | 4 | 4 | 4 | 4 | 0 | 0 |\n",
       "| 0 | 0 | 3 | 3 | 3 | 1 | 3 | 1 | 0 | 3 |\n",
       "| 3 | 0 | 1 | 1 | 2 | 3 | 4 | 3 | 0 | 2 |\n",
       "| 4 | 0 | 3 | 1 | 3 | 1 | 2 | 0 | 0 | 4 |\n",
       "| 2 | 1 | 2 | 2 | 2 | 2 | 3 | 2 | 0 | 2 |\n",
       "| 3 | 1 | 2 | 2 | 1 | 3 | 4 | 2 | 0 | 3 |\n",
       "| 3 | 1 | 2 | 2 | 2 | 3 | 3 | 2 | 0 | 3 |\n",
       "| 3 | 3 | 3 | 3 | 1 | 4 | 4 | 4 | 0 | 4 |\n",
       "| 3 | 0 | 1 | 2 | 1 | 4 | 4 | 4 | 0 | 3 |\n",
       "| 3 | 1 | 3 | 2 | 2 | 2 | 3 | 0 | 0 | 4 |\n",
       "| 3 | 0 | 3 | 3 | 0 | 3 | 4 | 2 | 0 | 3 |\n",
       "| 4 | 0 | 3 | 3 | 1 | 3 | 4 | 4 | 0 | 3 |\n",
       "| 3 | 0 | 2 | 2 | 0 | 4 | 4 | 4 | 0 | 3 |\n",
       "| 4 | 2 | 3 | 3 | 2 | 4 | 4 | 3 | 0 | 3 |\n",
       "| 3 | 0 | 3 | 3 | 1 | 4 | 0 | 2 | 0 | 3 |\n",
       "| 3 | 2 | 2 | 2 | 1 | 3 | 3 | 3 | 0 | 2 |\n",
       "| ... | ... | ... | ... | ... | ... | ... | ... | ... | ... |\n",
       "| 3 | 0 | 3 | 3 | 1 | 3 | 1 | 3 | 0 | 3 |\n",
       "| 3 | 0 | 3 | 3 | 1 | 3 | 1 | 3 | 0 | 3 |\n",
       "| 3 | 0 | 3 | 3 | 1 | 3 | 3 | 3 | 0 | 3 |\n",
       "| 3 | 0 | 3 | 3 | 1 | 3 | 3 | 3 | 0 | 3 |\n",
       "| 3 | 0 | 3 | 3 | 1 | 3 | 3 | 3 | 0 | 3 |\n",
       "| 3 | 0 | 3 | 3 | 1 | 3 | 3 | 3 | 0 | 3 |\n",
       "| 3 | 0 | 3 | 3 | 1 | 3 | 1 | 3 | 0 | 3 |\n",
       "| 3 | 0 | 3 | 3 | 1 | 3 | 3 | 3 | 0 | 3 |\n",
       "| 3 | 0 | 3 | 3 | 1 | 3 | 3 | 3 | 0 | 3 |\n",
       "| 3 | 0 | 2 | 2 | 2 | 2 | 2 | 2 | 0 | 1 |\n",
       "| 1 | 1 | 1 | 2 | 2 | 2 | 2 | 2 | 2 | 1 |\n",
       "| 0 | 4 | 3 | 1 | 2 | 2 | 2 | 2 | 3 | 2 |\n",
       "| 1 | 1 | 0 | 2 | 2 | 2 | 1 | 1 | 2 | 3 |\n",
       "| 2 | 3 | 2 | 3 | 1 | 3 | 1 | 2 | 2 | 4 |\n",
       "| 4 | 3 | 3 | 2 | 2 | 4 | 2 | 1 | 3 | 2 |\n",
       "| 0 | 0 | 3 | 2 | 2 | 1 | 2 | 1 | 3 | 3 |\n",
       "| 3 | 2 | 2 | 3 | 1 | 1 | 4 | 0 | 3 | 2 |\n",
       "| 2 | 0 | 0 | 1 | 2 | 3 | 3 | 3 | 1 | 2 |\n",
       "| 2 | 2 | 1 | 2 | 2 | 3 | 2 | 4 | 0 | 2 |\n",
       "| 1 | 0 | 0 | 3 | 2 | 2 | 3 | 2 | 1 | 3 |\n",
       "| 4 | 1 | 0 | 1 | 3 | 3 | 0 | 0 | 3 | 2 |\n",
       "| 1 | 2 | 2 | 3 | 2 | 2 | 1 | 0 | 3 | 2 |\n",
       "| 1 | 3 | 2 | 4 | 2 | 2 | 1 | 0 | 2 | 3 |\n",
       "| 4 | 4 | 3 | 3 | 2 | 3 | 4 | 3 | 0 | 3 |\n",
       "| 4 | 2 | 2 | 4 | 3 | 2 | 2 | 2 | 3 | 1 |\n",
       "| 2 | 2 | 2 | 2 | 3 | 2 | 2 | 2 | 2 | 3 |\n",
       "| 2 | 2 | 3 | 1 | 4 | 3 | 2 | 1 | 4 | 1 |\n",
       "| 0 | 2 | 2 | 1 | 1 | 3 | 3 | 2 | 1 | 1 |\n",
       "| 3 | 1 | 2 | 2 | 1 | 3 | 4 | 3 | 0 | 1 |\n",
       "| 4 | 0 | 2 | 3 | 1 | 3 | 3 | 3 | 0 | 3 |\n",
       "\n"
      ],
      "text/plain": [
       "    Q1  q2  q3  q4  q5  Q6  Q7  Q8  Q9  Q10\n",
       "1   3   0   2   2   1   3   3   4   0   4  \n",
       "2   3   1   3   3   1   4   3   4   0   3  \n",
       "3   3   2   2   2   1   4   3   3   1   3  \n",
       "4   4   0   2   2   0   4   3   3   0   3  \n",
       "5   0   4   3   2   0   1   4   0   1   2  \n",
       "6   0   1   0   0   4   0   4   4   0   0  \n",
       "7   0   0   1   0   2   4   4   4   0   0  \n",
       "8   3   0   2   2   2   3   4   2   0   2  \n",
       "9   1   2   0   3   1   3   0   4   2   0  \n",
       "10  3   0   2   2   1   4   4   2   1   3  \n",
       "11  2   0   2   2   2   3   3   2   0   3  \n",
       "12  4   0   3   3   0   4   0   0   0   3  \n",
       "13  3   1   3   3   1   3   4   1   1   4  \n",
       "14  4   3   3   3   2   3   3   2   0   4  \n",
       "15  3   0   1   1   4   4   4   4   0   0  \n",
       "16  0   0   3   3   3   1   3   1   0   3  \n",
       "17  3   0   1   1   2   3   4   3   0   2  \n",
       "18  4   0   3   1   3   1   2   0   0   4  \n",
       "19  2   1   2   2   2   2   3   2   0   2  \n",
       "20  3   1   2   2   1   3   4   2   0   3  \n",
       "21  3   1   2   2   2   3   3   2   0   3  \n",
       "22  3   3   3   3   1   4   4   4   0   4  \n",
       "23  3   0   1   2   1   4   4   4   0   3  \n",
       "24  3   1   3   2   2   2   3   0   0   4  \n",
       "25  3   0   3   3   0   3   4   2   0   3  \n",
       "26  4   0   3   3   1   3   4   4   0   3  \n",
       "27  3   0   2   2   0   4   4   4   0   3  \n",
       "28  4   2   3   3   2   4   4   3   0   3  \n",
       "29  3   0   3   3   1   4   0   2   0   3  \n",
       "30  3   2   2   2   1   3   3   3   0   2  \n",
       "... ... ... ... ... ... ... ... ... ... ...\n",
       "473 3   0   3   3   1   3   1   3   0   3  \n",
       "474 3   0   3   3   1   3   1   3   0   3  \n",
       "475 3   0   3   3   1   3   3   3   0   3  \n",
       "476 3   0   3   3   1   3   3   3   0   3  \n",
       "477 3   0   3   3   1   3   3   3   0   3  \n",
       "478 3   0   3   3   1   3   3   3   0   3  \n",
       "479 3   0   3   3   1   3   1   3   0   3  \n",
       "480 3   0   3   3   1   3   3   3   0   3  \n",
       "481 3   0   3   3   1   3   3   3   0   3  \n",
       "482 3   0   2   2   2   2   2   2   0   1  \n",
       "483 1   1   1   2   2   2   2   2   2   1  \n",
       "484 0   4   3   1   2   2   2   2   3   2  \n",
       "485 1   1   0   2   2   2   1   1   2   3  \n",
       "486 2   3   2   3   1   3   1   2   2   4  \n",
       "487 4   3   3   2   2   4   2   1   3   2  \n",
       "488 0   0   3   2   2   1   2   1   3   3  \n",
       "489 3   2   2   3   1   1   4   0   3   2  \n",
       "490 2   0   0   1   2   3   3   3   1   2  \n",
       "491 2   2   1   2   2   3   2   4   0   2  \n",
       "492 1   0   0   3   2   2   3   2   1   3  \n",
       "493 4   1   0   1   3   3   0   0   3   2  \n",
       "494 1   2   2   3   2   2   1   0   3   2  \n",
       "495 1   3   2   4   2   2   1   0   2   3  \n",
       "496 4   4   3   3   2   3   4   3   0   3  \n",
       "497 4   2   2   4   3   2   2   2   3   1  \n",
       "498 2   2   2   2   3   2   2   2   2   3  \n",
       "499 2   2   3   1   4   3   2   1   4   1  \n",
       "500 0   2   2   1   1   3   3   2   1   1  \n",
       "501 3   1   2   2   1   3   4   3   0   1  \n",
       "502 4   0   2   3   1   3   3   3   0   3  "
      ]
     },
     "metadata": {},
     "output_type": "display_data"
    }
   ],
   "source": [
    "mydata"
   ]
  },
  {
   "cell_type": "code",
   "execution_count": 27,
   "metadata": {},
   "outputs": [
    {
     "name": "stderr",
     "output_type": "stream",
     "text": [
      "The following objects are masked _by_ .GlobalEnv:\n",
      "\n",
      "    Q1, Q10, Q6, Q7, Q8, Q9\n",
      "\n"
     ]
    }
   ],
   "source": [
    "attach(mydata)"
   ]
  },
  {
   "cell_type": "code",
   "execution_count": 28,
   "metadata": {},
   "outputs": [],
   "source": [
    "# Define Variables\n",
    "x <- cbind(Q1,Q2,Q3,Q4,Q5,Q6,Q7,Q8,Q9,Q10)"
   ]
  },
  {
   "cell_type": "code",
   "execution_count": 29,
   "metadata": {},
   "outputs": [
    {
     "data": {
      "text/plain": [
       "       Q1              q2               q3              q4       \n",
       " Min.   :0.000   Min.   :0.0000   Min.   :0.000   Min.   :0.000  \n",
       " 1st Qu.:2.000   1st Qu.:0.0000   1st Qu.:2.000   1st Qu.:2.000  \n",
       " Median :3.000   Median :0.0000   Median :2.000   Median :3.000  \n",
       " Mean   :2.574   Mean   :0.6355   Mean   :2.265   Mean   :2.414  \n",
       " 3rd Qu.:3.000   3rd Qu.:1.0000   3rd Qu.:3.000   3rd Qu.:3.000  \n",
       " Max.   :4.000   Max.   :4.0000   Max.   :4.000   Max.   :4.000  \n",
       "       q5              Q6              Q7              Q8       \n",
       " Min.   :0.000   Min.   :0.000   Min.   :0.000   Min.   :0.000  \n",
       " 1st Qu.:1.000   1st Qu.:2.000   1st Qu.:2.000   1st Qu.:2.000  \n",
       " Median :2.000   Median :3.000   Median :3.000   Median :3.000  \n",
       " Mean   :1.809   Mean   :2.769   Mean   :2.598   Mean   :2.512  \n",
       " 3rd Qu.:3.000   3rd Qu.:3.000   3rd Qu.:3.000   3rd Qu.:3.000  \n",
       " Max.   :4.000   Max.   :4.000   Max.   :4.000   Max.   :4.000  \n",
       "       Q9              Q10       \n",
       " Min.   :0.0000   Min.   :0.000  \n",
       " 1st Qu.:0.0000   1st Qu.:2.000  \n",
       " Median :0.0000   Median :3.000  \n",
       " Mean   :0.5259   Mean   :2.727  \n",
       " 3rd Qu.:1.0000   3rd Qu.:3.000  \n",
       " Max.   :4.0000   Max.   :4.000  "
      ]
     },
     "metadata": {},
     "output_type": "display_data"
    },
    {
     "data": {
      "text/html": [
       "<table>\n",
       "<thead><tr><th></th><th scope=col>Q1</th><th scope=col>q2</th><th scope=col>q3</th><th scope=col>q4</th><th scope=col>q5</th><th scope=col>Q6</th><th scope=col>Q7</th><th scope=col>Q8</th><th scope=col>Q9</th><th scope=col>Q10</th></tr></thead>\n",
       "<tbody>\n",
       "\t<tr><th scope=row>Q1</th><td> 1.00000000 </td><td> 0.01129787 </td><td> 0.216672241</td><td> 0.20302132 </td><td>-0.25664279 </td><td> 0.20252821 </td><td> 0.12349500 </td><td> 0.065363856</td><td>-0.040869021</td><td> 0.238411950</td></tr>\n",
       "\t<tr><th scope=row>q2</th><td> 0.01129787 </td><td> 1.00000000 </td><td> 0.112154288</td><td> 0.05209318 </td><td> 0.07180601 </td><td>-0.03549107 </td><td>-0.13345736 </td><td>-0.242765663</td><td> 0.452294512</td><td> 0.014567882</td></tr>\n",
       "\t<tr><th scope=row>q3</th><td> 0.21667224 </td><td> 0.11215429 </td><td> 1.000000000</td><td> 0.46686461 </td><td>-0.22145198 </td><td> 0.20420013 </td><td> 0.04139664 </td><td> 0.003365176</td><td>-0.055837538</td><td> 0.302232429</td></tr>\n",
       "\t<tr><th scope=row>q4</th><td> 0.20302132 </td><td> 0.05209318 </td><td> 0.466864607</td><td> 1.00000000 </td><td>-0.13621467 </td><td> 0.12320150 </td><td>-0.05888883 </td><td> 0.021241639</td><td>-0.048940638</td><td> 0.286716958</td></tr>\n",
       "\t<tr><th scope=row>q5</th><td>-0.25664279 </td><td> 0.07180601 </td><td>-0.221451978</td><td>-0.13621467 </td><td> 1.00000000 </td><td>-0.19952846 </td><td> 0.07996329 </td><td> 0.086311840</td><td>-0.010157620</td><td>-0.085234253</td></tr>\n",
       "\t<tr><th scope=row>Q6</th><td> 0.20252821 </td><td>-0.03549107 </td><td> 0.204200132</td><td> 0.12320150 </td><td>-0.19952846 </td><td> 1.00000000 </td><td> 0.11839474 </td><td> 0.183458663</td><td>-0.050893633</td><td> 0.248271866</td></tr>\n",
       "\t<tr><th scope=row>Q7</th><td> 0.12349500 </td><td>-0.13345736 </td><td> 0.041396638</td><td>-0.05888883 </td><td> 0.07996329 </td><td> 0.11839474 </td><td> 1.00000000 </td><td> 0.452153793</td><td>-0.320365483</td><td> 0.036006972</td></tr>\n",
       "\t<tr><th scope=row>Q8</th><td> 0.06536386 </td><td>-0.24276566 </td><td> 0.003365176</td><td> 0.02124164 </td><td> 0.08631184 </td><td> 0.18345866 </td><td> 0.45215379 </td><td> 1.000000000</td><td>-0.371709544</td><td>-0.068464372</td></tr>\n",
       "\t<tr><th scope=row>Q9</th><td>-0.04086902 </td><td> 0.45229451 </td><td>-0.055837538</td><td>-0.04894064 </td><td>-0.01015762 </td><td>-0.05089363 </td><td>-0.32036548 </td><td>-0.371709544</td><td> 1.000000000</td><td>-0.009648022</td></tr>\n",
       "\t<tr><th scope=row>Q10</th><td> 0.23841195 </td><td> 0.01456788 </td><td> 0.302232429</td><td> 0.28671696 </td><td>-0.08523425 </td><td> 0.24827187 </td><td> 0.03600697 </td><td>-0.068464372</td><td>-0.009648022</td><td> 1.000000000</td></tr>\n",
       "</tbody>\n",
       "</table>\n"
      ],
      "text/latex": [
       "\\begin{tabular}{r|llllllllll}\n",
       "  & Q1 & q2 & q3 & q4 & q5 & Q6 & Q7 & Q8 & Q9 & Q10\\\\\n",
       "\\hline\n",
       "\tQ1 &  1.00000000  &  0.01129787  &  0.216672241 &  0.20302132  & -0.25664279  &  0.20252821  &  0.12349500  &  0.065363856 & -0.040869021 &  0.238411950\\\\\n",
       "\tq2 &  0.01129787  &  1.00000000  &  0.112154288 &  0.05209318  &  0.07180601  & -0.03549107  & -0.13345736  & -0.242765663 &  0.452294512 &  0.014567882\\\\\n",
       "\tq3 &  0.21667224  &  0.11215429  &  1.000000000 &  0.46686461  & -0.22145198  &  0.20420013  &  0.04139664  &  0.003365176 & -0.055837538 &  0.302232429\\\\\n",
       "\tq4 &  0.20302132  &  0.05209318  &  0.466864607 &  1.00000000  & -0.13621467  &  0.12320150  & -0.05888883  &  0.021241639 & -0.048940638 &  0.286716958\\\\\n",
       "\tq5 & -0.25664279  &  0.07180601  & -0.221451978 & -0.13621467  &  1.00000000  & -0.19952846  &  0.07996329  &  0.086311840 & -0.010157620 & -0.085234253\\\\\n",
       "\tQ6 &  0.20252821  & -0.03549107  &  0.204200132 &  0.12320150  & -0.19952846  &  1.00000000  &  0.11839474  &  0.183458663 & -0.050893633 &  0.248271866\\\\\n",
       "\tQ7 &  0.12349500  & -0.13345736  &  0.041396638 & -0.05888883  &  0.07996329  &  0.11839474  &  1.00000000  &  0.452153793 & -0.320365483 &  0.036006972\\\\\n",
       "\tQ8 &  0.06536386  & -0.24276566  &  0.003365176 &  0.02124164  &  0.08631184  &  0.18345866  &  0.45215379  &  1.000000000 & -0.371709544 & -0.068464372\\\\\n",
       "\tQ9 & -0.04086902  &  0.45229451  & -0.055837538 & -0.04894064  & -0.01015762  & -0.05089363  & -0.32036548  & -0.371709544 &  1.000000000 & -0.009648022\\\\\n",
       "\tQ10 &  0.23841195  &  0.01456788  &  0.302232429 &  0.28671696  & -0.08523425  &  0.24827187  &  0.03600697  & -0.068464372 & -0.009648022 &  1.000000000\\\\\n",
       "\\end{tabular}\n"
      ],
      "text/markdown": [
       "\n",
       "| <!--/--> | Q1 | q2 | q3 | q4 | q5 | Q6 | Q7 | Q8 | Q9 | Q10 |\n",
       "|---|---|---|---|---|---|---|---|---|---|---|\n",
       "| Q1 |  1.00000000  |  0.01129787  |  0.216672241 |  0.20302132  | -0.25664279  |  0.20252821  |  0.12349500  |  0.065363856 | -0.040869021 |  0.238411950 |\n",
       "| q2 |  0.01129787  |  1.00000000  |  0.112154288 |  0.05209318  |  0.07180601  | -0.03549107  | -0.13345736  | -0.242765663 |  0.452294512 |  0.014567882 |\n",
       "| q3 |  0.21667224  |  0.11215429  |  1.000000000 |  0.46686461  | -0.22145198  |  0.20420013  |  0.04139664  |  0.003365176 | -0.055837538 |  0.302232429 |\n",
       "| q4 |  0.20302132  |  0.05209318  |  0.466864607 |  1.00000000  | -0.13621467  |  0.12320150  | -0.05888883  |  0.021241639 | -0.048940638 |  0.286716958 |\n",
       "| q5 | -0.25664279  |  0.07180601  | -0.221451978 | -0.13621467  |  1.00000000  | -0.19952846  |  0.07996329  |  0.086311840 | -0.010157620 | -0.085234253 |\n",
       "| Q6 |  0.20252821  | -0.03549107  |  0.204200132 |  0.12320150  | -0.19952846  |  1.00000000  |  0.11839474  |  0.183458663 | -0.050893633 |  0.248271866 |\n",
       "| Q7 |  0.12349500  | -0.13345736  |  0.041396638 | -0.05888883  |  0.07996329  |  0.11839474  |  1.00000000  |  0.452153793 | -0.320365483 |  0.036006972 |\n",
       "| Q8 |  0.06536386  | -0.24276566  |  0.003365176 |  0.02124164  |  0.08631184  |  0.18345866  |  0.45215379  |  1.000000000 | -0.371709544 | -0.068464372 |\n",
       "| Q9 | -0.04086902  |  0.45229451  | -0.055837538 | -0.04894064  | -0.01015762  | -0.05089363  | -0.32036548  | -0.371709544 |  1.000000000 | -0.009648022 |\n",
       "| Q10 |  0.23841195  |  0.01456788  |  0.302232429 |  0.28671696  | -0.08523425  |  0.24827187  |  0.03600697  | -0.068464372 | -0.009648022 |  1.000000000 |\n",
       "\n"
      ],
      "text/plain": [
       "    Q1          q2          q3           q4          q5          Q6         \n",
       "Q1   1.00000000  0.01129787  0.216672241  0.20302132 -0.25664279  0.20252821\n",
       "q2   0.01129787  1.00000000  0.112154288  0.05209318  0.07180601 -0.03549107\n",
       "q3   0.21667224  0.11215429  1.000000000  0.46686461 -0.22145198  0.20420013\n",
       "q4   0.20302132  0.05209318  0.466864607  1.00000000 -0.13621467  0.12320150\n",
       "q5  -0.25664279  0.07180601 -0.221451978 -0.13621467  1.00000000 -0.19952846\n",
       "Q6   0.20252821 -0.03549107  0.204200132  0.12320150 -0.19952846  1.00000000\n",
       "Q7   0.12349500 -0.13345736  0.041396638 -0.05888883  0.07996329  0.11839474\n",
       "Q8   0.06536386 -0.24276566  0.003365176  0.02124164  0.08631184  0.18345866\n",
       "Q9  -0.04086902  0.45229451 -0.055837538 -0.04894064 -0.01015762 -0.05089363\n",
       "Q10  0.23841195  0.01456788  0.302232429  0.28671696 -0.08523425  0.24827187\n",
       "    Q7          Q8           Q9           Q10         \n",
       "Q1   0.12349500  0.065363856 -0.040869021  0.238411950\n",
       "q2  -0.13345736 -0.242765663  0.452294512  0.014567882\n",
       "q3   0.04139664  0.003365176 -0.055837538  0.302232429\n",
       "q4  -0.05888883  0.021241639 -0.048940638  0.286716958\n",
       "q5   0.07996329  0.086311840 -0.010157620 -0.085234253\n",
       "Q6   0.11839474  0.183458663 -0.050893633  0.248271866\n",
       "Q7   1.00000000  0.452153793 -0.320365483  0.036006972\n",
       "Q8   0.45215379  1.000000000 -0.371709544 -0.068464372\n",
       "Q9  -0.32036548 -0.371709544  1.000000000 -0.009648022\n",
       "Q10  0.03600697 -0.068464372 -0.009648022  1.000000000"
      ]
     },
     "metadata": {},
     "output_type": "display_data"
    }
   ],
   "source": [
    "# Descriptive statistics\n",
    "summary(x)\n",
    "cor(x)"
   ]
  },
  {
   "cell_type": "code",
   "execution_count": 30,
   "metadata": {},
   "outputs": [],
   "source": [
    "# Principal Component Analysis\n",
    "pca <-princomp(x, score=TRUE, cor=TRUE)"
   ]
  },
  {
   "cell_type": "code",
   "execution_count": 31,
   "metadata": {},
   "outputs": [
    {
     "data": {
      "text/plain": [
       "\n",
       "Loadings:\n",
       "    Comp.1 Comp.2 Comp.3 Comp.4 Comp.5 Comp.6 Comp.7 Comp.8 Comp.9 Comp.10\n",
       "Q1   0.377  0.114  0.100  0.357  0.276  0.629  0.414  0.232               \n",
       "q2  -0.131  0.412 -0.532  0.274  0.269        -0.117  0.142 -0.580        \n",
       "q3   0.427  0.253 -0.160 -0.282  0.228 -0.231 -0.316  0.375  0.433  0.339 \n",
       "q4   0.382  0.245 -0.143 -0.488  0.180 -0.129  0.382 -0.333 -0.125 -0.462 \n",
       "q5  -0.263 -0.191 -0.644 -0.242 -0.305  0.176  0.363  0.329  0.236        \n",
       "Q6   0.369                0.471 -0.453 -0.514  0.210  0.266        -0.238 \n",
       "Q7   0.236 -0.413 -0.371  0.247  0.184  0.157 -0.482 -0.151  0.174 -0.480 \n",
       "Q8   0.239 -0.474 -0.243  0.121  0.168 -0.238  0.287 -0.389         0.566 \n",
       "Q9  -0.251  0.463 -0.165  0.341                      -0.484  0.574        \n",
       "Q10  0.363  0.215 -0.148        -0.637  0.382 -0.261 -0.294 -0.175  0.237 \n",
       "\n",
       "               Comp.1 Comp.2 Comp.3 Comp.4 Comp.5 Comp.6 Comp.7 Comp.8 Comp.9\n",
       "SS loadings       1.0    1.0    1.0    1.0    1.0    1.0    1.0    1.0    1.0\n",
       "Proportion Var    0.1    0.1    0.1    0.1    0.1    0.1    0.1    0.1    0.1\n",
       "Cumulative Var    0.1    0.2    0.3    0.4    0.5    0.6    0.7    0.8    0.9\n",
       "               Comp.10\n",
       "SS loadings        1.0\n",
       "Proportion Var     0.1\n",
       "Cumulative Var     1.0"
      ]
     },
     "metadata": {},
     "output_type": "display_data"
    }
   ],
   "source": [
    "# Loading of Principal Components\n",
    "loadings(pca)"
   ]
  },
  {
   "cell_type": "code",
   "execution_count": 32,
   "metadata": {},
   "outputs": [
    {
     "data": {
      "image/png": "[encoded data removed]",
      "text/plain": [
       "Plot with title \"pca\""
      ]
     },
     "metadata": {},
     "output_type": "display_data"
    },
    {
     "data": {
      "image/png": "[encoded data removed]",
      "text/plain": [
       "Plot with title \"scree plot\""
      ]
     },
     "metadata": {},
     "output_type": "display_data"
    }
   ],
   "source": [
    "# Scree plot of eigenvalues\n",
    "plot(pca)\n",
    "screeplot(pca, type=\"line\", main=\"scree plot\")"
   ]
  },
  {
   "cell_type": "code",
   "execution_count": 33,
   "metadata": {},
   "outputs": [
    {
     "data": {
      "image/png": "[encoded data removed]",
      "text/plain": [
       "plot without title"
      ]
     },
     "metadata": {},
     "output_type": "display_data"
    }
   ],
   "source": [
    "# Biplot of score variables\n",
    "biplot(pca)"
   ]
  },
  {
   "cell_type": "code",
   "execution_count": 34,
   "metadata": {},
   "outputs": [
    {
     "data": {
      "text/html": [
       "<table>\n",
       "<thead><tr><th scope=col>Comp.1</th><th scope=col>Comp.2</th><th scope=col>Comp.3</th><th scope=col>Comp.4</th><th scope=col>Comp.5</th><th scope=col>Comp.6</th><th scope=col>Comp.7</th><th scope=col>Comp.8</th><th scope=col>Comp.9</th><th scope=col>Comp.10</th></tr></thead>\n",
       "<tbody>\n",
       "\t<tr><td> 1.19257533 </td><td>-0.9624164  </td><td> 0.3980937  </td><td> 0.50197805 </td><td>-0.577455571</td><td> 0.411399620</td><td>-0.24815877 </td><td>-0.81254897 </td><td>-0.4295102  </td><td> 0.92153424 </td></tr>\n",
       "\t<tr><td> 1.89551320 </td><td>-0.2578783  </td><td>-0.2518712  </td><td> 0.48797933 </td><td> 0.284311849</td><td>-0.897012671</td><td> 0.18215177 </td><td>-0.11515942 </td><td>-0.4871803  </td><td> 0.38514133 </td></tr>\n",
       "\t<tr><td> 0.48188526 </td><td> 0.4912815  </td><td>-0.3857747  </td><td> 1.77343977 </td><td>-0.031226652</td><td>-0.465602679</td><td>-0.16706774 </td><td>-0.15107899 </td><td>-0.6827019  </td><td> 0.12087292 </td></tr>\n",
       "\t<tr><td> 1.54984827 </td><td>-0.4585983  </td><td> 1.4500335  </td><td> 1.46101714 </td><td>-0.006211607</td><td> 0.147632097</td><td>-0.01973236 </td><td>-0.03232592 </td><td>-0.3245371  </td><td> 0.03834163 </td></tr>\n",
       "\t<tr><td>-1.91371837 </td><td> 2.0146455  </td><td>-0.7537532  </td><td>-0.08311075 </td><td> 1.875692301</td><td>-0.822424678</td><td>-3.63350223 </td><td> 0.00471159 </td><td>-1.2526754  </td><td>-0.95646328 </td></tr>\n",
       "\t<tr><td>-4.57882791 </td><td>-3.6909655  </td><td>-1.2877104  </td><td>-0.06300368 </td><td> 1.200967776</td><td> 0.002497741</td><td>-0.58868729 </td><td>-0.16043900 </td><td>-0.3273647  </td><td> 0.40461396 </td></tr>\n",
       "\t<tr><td>-2.14408163 </td><td>-3.3790366  </td><td> 0.2740773  </td><td> 1.63278029 </td><td> 0.027414642</td><td>-2.425375389</td><td>-0.67314773 </td><td> 0.48218990 </td><td> 0.2287551  </td><td>-0.15980750 </td></tr>\n",
       "\t<tr><td> 0.01816618 </td><td>-1.0756557  </td><td> 0.2060558  </td><td> 0.43832082 </td><td> 0.246836187</td><td> 0.377446787</td><td>-0.31419328 </td><td> 0.62480597 </td><td> 0.4216055  </td><td>-0.97519450 </td></tr>\n",
       "\t<tr><td>-2.68857062 </td><td> 0.4798356  </td><td> 0.5945759  </td><td> 0.82200674 </td><td> 1.204001957</td><td>-2.545772714</td><td> 2.28346280 </td><td>-1.49360249 </td><td>-1.2644233  </td><td> 0.13913288 </td></tr>\n",
       "\t<tr><td> 0.71478412 </td><td>-0.2036122  </td><td> 0.5014127  </td><td> 1.36701735 </td><td>-0.522553403</td><td> 0.034756801</td><td>-0.60974579 </td><td>-0.19970562 </td><td> 0.6104258  </td><td>-0.91484202 </td></tr>\n",
       "</tbody>\n",
       "</table>\n"
      ],
      "text/latex": [
       "\\begin{tabular}{llllllllll}\n",
       " Comp.1 & Comp.2 & Comp.3 & Comp.4 & Comp.5 & Comp.6 & Comp.7 & Comp.8 & Comp.9 & Comp.10\\\\\n",
       "\\hline\n",
       "\t  1.19257533  & -0.9624164   &  0.3980937   &  0.50197805  & -0.577455571 &  0.411399620 & -0.24815877  & -0.81254897  & -0.4295102   &  0.92153424 \\\\\n",
       "\t  1.89551320  & -0.2578783   & -0.2518712   &  0.48797933  &  0.284311849 & -0.897012671 &  0.18215177  & -0.11515942  & -0.4871803   &  0.38514133 \\\\\n",
       "\t  0.48188526  &  0.4912815   & -0.3857747   &  1.77343977  & -0.031226652 & -0.465602679 & -0.16706774  & -0.15107899  & -0.6827019   &  0.12087292 \\\\\n",
       "\t  1.54984827  & -0.4585983   &  1.4500335   &  1.46101714  & -0.006211607 &  0.147632097 & -0.01973236  & -0.03232592  & -0.3245371   &  0.03834163 \\\\\n",
       "\t -1.91371837  &  2.0146455   & -0.7537532   & -0.08311075  &  1.875692301 & -0.822424678 & -3.63350223  &  0.00471159  & -1.2526754   & -0.95646328 \\\\\n",
       "\t -4.57882791  & -3.6909655   & -1.2877104   & -0.06300368  &  1.200967776 &  0.002497741 & -0.58868729  & -0.16043900  & -0.3273647   &  0.40461396 \\\\\n",
       "\t -2.14408163  & -3.3790366   &  0.2740773   &  1.63278029  &  0.027414642 & -2.425375389 & -0.67314773  &  0.48218990  &  0.2287551   & -0.15980750 \\\\\n",
       "\t  0.01816618  & -1.0756557   &  0.2060558   &  0.43832082  &  0.246836187 &  0.377446787 & -0.31419328  &  0.62480597  &  0.4216055   & -0.97519450 \\\\\n",
       "\t -2.68857062  &  0.4798356   &  0.5945759   &  0.82200674  &  1.204001957 & -2.545772714 &  2.28346280  & -1.49360249  & -1.2644233   &  0.13913288 \\\\\n",
       "\t  0.71478412  & -0.2036122   &  0.5014127   &  1.36701735  & -0.522553403 &  0.034756801 & -0.60974579  & -0.19970562  &  0.6104258   & -0.91484202 \\\\\n",
       "\\end{tabular}\n"
      ],
      "text/markdown": [
       "\n",
       "| Comp.1 | Comp.2 | Comp.3 | Comp.4 | Comp.5 | Comp.6 | Comp.7 | Comp.8 | Comp.9 | Comp.10 |\n",
       "|---|---|---|---|---|---|---|---|---|---|\n",
       "|  1.19257533  | -0.9624164   |  0.3980937   |  0.50197805  | -0.577455571 |  0.411399620 | -0.24815877  | -0.81254897  | -0.4295102   |  0.92153424  |\n",
       "|  1.89551320  | -0.2578783   | -0.2518712   |  0.48797933  |  0.284311849 | -0.897012671 |  0.18215177  | -0.11515942  | -0.4871803   |  0.38514133  |\n",
       "|  0.48188526  |  0.4912815   | -0.3857747   |  1.77343977  | -0.031226652 | -0.465602679 | -0.16706774  | -0.15107899  | -0.6827019   |  0.12087292  |\n",
       "|  1.54984827  | -0.4585983   |  1.4500335   |  1.46101714  | -0.006211607 |  0.147632097 | -0.01973236  | -0.03232592  | -0.3245371   |  0.03834163  |\n",
       "| -1.91371837  |  2.0146455   | -0.7537532   | -0.08311075  |  1.875692301 | -0.822424678 | -3.63350223  |  0.00471159  | -1.2526754   | -0.95646328  |\n",
       "| -4.57882791  | -3.6909655   | -1.2877104   | -0.06300368  |  1.200967776 |  0.002497741 | -0.58868729  | -0.16043900  | -0.3273647   |  0.40461396  |\n",
       "| -2.14408163  | -3.3790366   |  0.2740773   |  1.63278029  |  0.027414642 | -2.425375389 | -0.67314773  |  0.48218990  |  0.2287551   | -0.15980750  |\n",
       "|  0.01816618  | -1.0756557   |  0.2060558   |  0.43832082  |  0.246836187 |  0.377446787 | -0.31419328  |  0.62480597  |  0.4216055   | -0.97519450  |\n",
       "| -2.68857062  |  0.4798356   |  0.5945759   |  0.82200674  |  1.204001957 | -2.545772714 |  2.28346280  | -1.49360249  | -1.2644233   |  0.13913288  |\n",
       "|  0.71478412  | -0.2036122   |  0.5014127   |  1.36701735  | -0.522553403 |  0.034756801 | -0.60974579  | -0.19970562  |  0.6104258   | -0.91484202  |\n",
       "\n"
      ],
      "text/plain": [
       "      Comp.1      Comp.2     Comp.3     Comp.4      Comp.5       Comp.6      \n",
       " [1,]  1.19257533 -0.9624164  0.3980937  0.50197805 -0.577455571  0.411399620\n",
       " [2,]  1.89551320 -0.2578783 -0.2518712  0.48797933  0.284311849 -0.897012671\n",
       " [3,]  0.48188526  0.4912815 -0.3857747  1.77343977 -0.031226652 -0.465602679\n",
       " [4,]  1.54984827 -0.4585983  1.4500335  1.46101714 -0.006211607  0.147632097\n",
       " [5,] -1.91371837  2.0146455 -0.7537532 -0.08311075  1.875692301 -0.822424678\n",
       " [6,] -4.57882791 -3.6909655 -1.2877104 -0.06300368  1.200967776  0.002497741\n",
       " [7,] -2.14408163 -3.3790366  0.2740773  1.63278029  0.027414642 -2.425375389\n",
       " [8,]  0.01816618 -1.0756557  0.2060558  0.43832082  0.246836187  0.377446787\n",
       " [9,] -2.68857062  0.4798356  0.5945759  0.82200674  1.204001957 -2.545772714\n",
       "[10,]  0.71478412 -0.2036122  0.5014127  1.36701735 -0.522553403  0.034756801\n",
       "      Comp.7      Comp.8      Comp.9     Comp.10    \n",
       " [1,] -0.24815877 -0.81254897 -0.4295102  0.92153424\n",
       " [2,]  0.18215177 -0.11515942 -0.4871803  0.38514133\n",
       " [3,] -0.16706774 -0.15107899 -0.6827019  0.12087292\n",
       " [4,] -0.01973236 -0.03232592 -0.3245371  0.03834163\n",
       " [5,] -3.63350223  0.00471159 -1.2526754 -0.95646328\n",
       " [6,] -0.58868729 -0.16043900 -0.3273647  0.40461396\n",
       " [7,] -0.67314773  0.48218990  0.2287551 -0.15980750\n",
       " [8,] -0.31419328  0.62480597  0.4216055 -0.97519450\n",
       " [9,]  2.28346280 -1.49360249 -1.2644233  0.13913288\n",
       "[10,] -0.60974579 -0.19970562  0.6104258 -0.91484202"
      ]
     },
     "metadata": {},
     "output_type": "display_data"
    }
   ],
   "source": [
    "# Scores of the components\n",
    "pca$scores[1:10,]"
   ]
  },
  {
   "cell_type": "code",
   "execution_count": null,
   "metadata": {},
   "outputs": [],
   "source": []
  }
 ],
 "metadata": {
  "hide_input": false,
  "kernelspec": {
   "display_name": "R",
   "language": "R",
   "name": "ir"
  },
  "language_info": {
   "codemirror_mode": "r",
   "file_extension": ".r",
   "mimetype": "text/x-r-source",
   "name": "R",
   "pygments_lexer": "r",
   "version": "3.6.1"
  }
 },
 "nbformat": 4,
 "nbformat_minor": 2
}
