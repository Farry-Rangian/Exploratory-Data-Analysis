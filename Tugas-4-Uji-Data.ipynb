{
 "cells": [
  {
   "cell_type": "markdown",
   "metadata": {},
   "source": [
    "# MENGUJI DATA SURVEY\n",
    "Membuat uji data dengan test Alpha cronbach, T-test, dan Principal Component Analysis (PCA) menggunakan bahasa R"
   ]
  },
  {
   "cell_type": "markdown",
   "metadata": {},
   "source": [
    "## 1. Uji data menggunakan test Alpha Cronbach"
   ]
  },
  {
   "cell_type": "code",
   "execution_count": 3,
   "metadata": {},
   "outputs": [],
   "source": [
    "mydata<-read.csv('data2.csv')"
   ]
  },
  {
   "cell_type": "code",
   "execution_count": 4,
   "metadata": {},
   "outputs": [
    {
     "data": {
      "text/html": [
       "<table>\n",
       "<thead><tr><th scope=col>Q1</th><th scope=col>q2</th><th scope=col>q3</th><th scope=col>q4</th><th scope=col>q5</th><th scope=col>Q6</th><th scope=col>Q7</th><th scope=col>Q8</th><th scope=col>Q9</th><th scope=col>Q10</th></tr></thead>\n",
       "<tbody>\n",
       "\t<tr><td>3</td><td>0</td><td>2</td><td>2</td><td>1</td><td>3</td><td>3</td><td>4</td><td>0</td><td>4</td></tr>\n",
       "\t<tr><td>3</td><td>1</td><td>3</td><td>3</td><td>1</td><td>4</td><td>3</td><td>4</td><td>0</td><td>3</td></tr>\n",
       "\t<tr><td>3</td><td>2</td><td>2</td><td>2</td><td>1</td><td>4</td><td>3</td><td>3</td><td>1</td><td>3</td></tr>\n",
       "\t<tr><td>4</td><td>0</td><td>2</td><td>2</td><td>0</td><td>4</td><td>3</td><td>3</td><td>0</td><td>3</td></tr>\n",
       "\t<tr><td>0</td><td>4</td><td>3</td><td>2</td><td>0</td><td>1</td><td>4</td><td>0</td><td>1</td><td>2</td></tr>\n",
       "\t<tr><td>0</td><td>1</td><td>0</td><td>0</td><td>4</td><td>0</td><td>4</td><td>4</td><td>0</td><td>0</td></tr>\n",
       "</tbody>\n",
       "</table>\n"
      ],
      "text/latex": [
       "\\begin{tabular}{r|llllllllll}\n",
       " Q1 & q2 & q3 & q4 & q5 & Q6 & Q7 & Q8 & Q9 & Q10\\\\\n",
       "\\hline\n",
       "\t 3 & 0 & 2 & 2 & 1 & 3 & 3 & 4 & 0 & 4\\\\\n",
       "\t 3 & 1 & 3 & 3 & 1 & 4 & 3 & 4 & 0 & 3\\\\\n",
       "\t 3 & 2 & 2 & 2 & 1 & 4 & 3 & 3 & 1 & 3\\\\\n",
       "\t 4 & 0 & 2 & 2 & 0 & 4 & 3 & 3 & 0 & 3\\\\\n",
       "\t 0 & 4 & 3 & 2 & 0 & 1 & 4 & 0 & 1 & 2\\\\\n",
       "\t 0 & 1 & 0 & 0 & 4 & 0 & 4 & 4 & 0 & 0\\\\\n",
       "\\end{tabular}\n"
      ],
      "text/markdown": [
       "\n",
       "| Q1 | q2 | q3 | q4 | q5 | Q6 | Q7 | Q8 | Q9 | Q10 |\n",
       "|---|---|---|---|---|---|---|---|---|---|\n",
       "| 3 | 0 | 2 | 2 | 1 | 3 | 3 | 4 | 0 | 4 |\n",
       "| 3 | 1 | 3 | 3 | 1 | 4 | 3 | 4 | 0 | 3 |\n",
       "| 3 | 2 | 2 | 2 | 1 | 4 | 3 | 3 | 1 | 3 |\n",
       "| 4 | 0 | 2 | 2 | 0 | 4 | 3 | 3 | 0 | 3 |\n",
       "| 0 | 4 | 3 | 2 | 0 | 1 | 4 | 0 | 1 | 2 |\n",
       "| 0 | 1 | 0 | 0 | 4 | 0 | 4 | 4 | 0 | 0 |\n",
       "\n"
      ],
      "text/plain": [
       "  Q1 q2 q3 q4 q5 Q6 Q7 Q8 Q9 Q10\n",
       "1 3  0  2  2  1  3  3  4  0  4  \n",
       "2 3  1  3  3  1  4  3  4  0  3  \n",
       "3 3  2  2  2  1  4  3  3  1  3  \n",
       "4 4  0  2  2  0  4  3  3  0  3  \n",
       "5 0  4  3  2  0  1  4  0  1  2  \n",
       "6 0  1  0  0  4  0  4  4  0  0  "
      ]
     },
     "metadata": {},
     "output_type": "display_data"
    }
   ],
   "source": [
    "head(mydata)"
   ]
  },
  {
   "cell_type": "code",
   "execution_count": 5,
   "metadata": {},
   "outputs": [
    {
     "name": "stderr",
     "output_type": "stream",
     "text": [
      "Warning message:\n",
      "\"package 'psych' was built under R version 3.6.3\""
     ]
    }
   ],
   "source": [
    "library('psych')"
   ]
  },
  {
   "cell_type": "code",
   "execution_count": 6,
   "metadata": {},
   "outputs": [
    {
     "name": "stderr",
     "output_type": "stream",
     "text": [
      "Warning message in alpha(mydata):\n",
      "\"Some items were negatively correlated with the total scale and probably \n",
      "should be reversed.  \n",
      "To do this, run the function again with the 'check.keys=TRUE' option\""
     ]
    },
    {
     "name": "stdout",
     "output_type": "stream",
     "text": [
      "Some items ( q2 q5 Q9 ) were negatively correlated with the total scale and \n",
      "probably should be reversed.  \n",
      "To do this, run the function again with the 'check.keys=TRUE' option"
     ]
    },
    {
     "data": {
      "text/plain": [
       "\n",
       "Reliability analysis   \n",
       "Call: alpha(x = mydata)\n",
       "\n",
       "  raw_alpha std.alpha G6(smc) average_r  S/N   ase mean  sd median_r\n",
       "      0.32      0.33    0.46     0.046 0.48 0.045  2.1 0.4    0.036\n",
       "\n",
       " lower alpha upper     95% confidence boundaries\n",
       "0.23 0.32 0.4 \n",
       "\n",
       " Reliability if an item is dropped:\n",
       "    raw_alpha std.alpha G6(smc) average_r  S/N alpha se var.r med.r\n",
       "Q1       0.24      0.25    0.41     0.036 0.34    0.051 0.040 0.018\n",
       "q2       0.32      0.32    0.44     0.049 0.46    0.045 0.038 0.039\n",
       "q3       0.21      0.20    0.35     0.028 0.26    0.053 0.035 0.018\n",
       "q4       0.23      0.23    0.37     0.032 0.30    0.051 0.037 0.025\n",
       "q5       0.42      0.43    0.52     0.076 0.74    0.039 0.038 0.047\n",
       "Q6       0.24      0.25    0.40     0.035 0.33    0.051 0.041 0.018\n",
       "Q7       0.29      0.31    0.43     0.048 0.45    0.047 0.036 0.018\n",
       "Q8       0.32      0.34    0.44     0.054 0.51    0.045 0.033 0.039\n",
       "Q9       0.39      0.40    0.49     0.070 0.68    0.040 0.031 0.069\n",
       "Q10      0.22      0.22    0.38     0.031 0.29    0.052 0.040 0.031\n",
       "\n",
       " Item statistics \n",
       "      n raw.r std.r  r.cor r.drop mean   sd\n",
       "Q1  502  0.48 0.469  0.361  0.218 2.57 1.14\n",
       "q2  502  0.33 0.346  0.216  0.066 0.64 1.08\n",
       "q3  502  0.52 0.550  0.538  0.307 2.26 1.00\n",
       "q4  502  0.47 0.508  0.460  0.257 2.41 0.95\n",
       "q5  502  0.10 0.087 -0.204 -0.169 1.81 1.08\n",
       "Q6  502  0.48 0.477  0.373  0.236 2.77 1.06\n",
       "Q7  502  0.40 0.356  0.236  0.115 2.60 1.19\n",
       "Q8  502  0.34 0.300  0.173  0.058 2.51 1.14\n",
       "Q9  502  0.12 0.145 -0.055 -0.134 0.53 1.00\n",
       "Q10 502  0.50 0.522  0.453  0.275 2.73 1.02\n",
       "\n",
       "Non missing response frequency for each item\n",
       "       0    1    2    3    4 miss\n",
       "Q1  0.09 0.09 0.16 0.48 0.18    0\n",
       "q2  0.69 0.10 0.11 0.07 0.02    0\n",
       "q3  0.06 0.14 0.34 0.38 0.07    0\n",
       "q4  0.04 0.12 0.33 0.42 0.10    0\n",
       "q5  0.07 0.40 0.27 0.17 0.09    0\n",
       "Q6  0.04 0.09 0.16 0.46 0.25    0\n",
       "Q7  0.06 0.15 0.15 0.39 0.24    0\n",
       "Q8  0.07 0.14 0.20 0.41 0.19    0\n",
       "Q9  0.74 0.08 0.10 0.07 0.01    0\n",
       "Q10 0.04 0.09 0.20 0.45 0.22    0"
      ]
     },
     "metadata": {},
     "output_type": "display_data"
    },
    {
     "name": "stdout",
     "output_type": "stream",
     "text": [
      "[1] \"Q1  = Menurut anda seorang Programmer harus menguasai minimal 3 bahasa pemrograman\"\n",
      "[1] \"Q2  = Apakah anda pernah mengunakan bahasa python\"\n",
      "[1] \"Q3  = Bahasa pemrograman python lebih mudah untuk digunakan daripada bahasa pemrograman yang lain\"\n",
      "[1] \"Q4  = Menurut anda,apakah Bahasa pemrograman python memiliki readability yang user-friendly daripada bahasa pemrograman java?\"\n",
      "[1] \"Q5  = Seorang programmer boleh menggenalkan bug yang ada di dalam software yang nantinya programmer mendapat keuntungan dalam membetulkan bug\"\n",
      "[1] \"Q6  = Programmer tidak boleh mencuri Software khususnya development tools\"\n",
      "[1] \"Q7  = Software yang dibuat secara tim dapat diperjual belikan tanpa memberitahukan kepada tim sebelumnya\"\n",
      "[1] \"Q8  = Menurut anda apakah software bajakan baik untuk digunakan?\"\n",
      "[1] \"Q9  = Apakah anda pernah mengikuti program sertifikasi untuk software programmer\"\n",
      "[1] \"Q10 = Apakah anda setuju jika seorang Software programmer jika memiliki lebih dari satu sertifikasi maka mendapatkan gaji yang lebih besar\"\n"
     ]
    }
   ],
   "source": [
    "alpha(mydata)\n",
    "print('Q1  = Menurut anda seorang Programmer harus menguasai minimal 3 bahasa pemrograman')\n",
    "print('Q2  = Apakah anda pernah mengunakan bahasa python')\n",
    "print('Q3  = Bahasa pemrograman python lebih mudah untuk digunakan daripada bahasa pemrograman yang lain')\n",
    "print('Q4  = Menurut anda,apakah Bahasa pemrograman python memiliki readability yang user-friendly daripada bahasa pemrograman java?')\n",
    "print('Q5  = Seorang programmer boleh menggenalkan bug yang ada di dalam software yang nantinya programmer mendapat keuntungan dalam membetulkan bug')\n",
    "print('Q6  = Programmer tidak boleh mencuri Software khususnya development tools')\n",
    "print('Q7  = Software yang dibuat secara tim dapat diperjual belikan tanpa memberitahukan kepada tim sebelumnya')\n",
    "print('Q8  = Menurut anda apakah software bajakan baik untuk digunakan?')\n",
    "print('Q9  = Apakah anda pernah mengikuti program sertifikasi untuk software programmer')\n",
    "print('Q10 = Apakah anda setuju jika seorang Software programmer jika memiliki lebih dari satu sertifikasi maka mendapatkan gaji yang lebih besar')"
   ]
  },
  {
   "cell_type": "markdown",
   "metadata": {},
   "source": [
    "## 2. Uji data menggunakan T-test"
   ]
  },
  {
   "cell_type": "code",
   "execution_count": null,
   "metadata": {},
   "outputs": [],
   "source": []
  }
 ],
 "metadata": {
  "hide_input": false,
  "kernelspec": {
   "display_name": "R",
   "language": "R",
   "name": "ir"
  },
  "language_info": {
   "codemirror_mode": "r",
   "file_extension": ".r",
   "mimetype": "text/x-r-source",
   "name": "R",
   "pygments_lexer": "r",
   "version": "3.6.1"
  }
 },
 "nbformat": 4,
 "nbformat_minor": 2
}
